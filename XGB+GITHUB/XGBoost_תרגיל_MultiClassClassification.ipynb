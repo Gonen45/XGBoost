{
  "cells": [
    {
      "cell_type": "code",
      "execution_count": 6,
      "id": "e707e17c-8ce1-4d8b-9f9b-1bf921ddba9c",
      "metadata": {
        "id": "e707e17c-8ce1-4d8b-9f9b-1bf921ddba9c"
      },
      "outputs": [],
      "source": [
        "from sklearn.datasets import load_digits\n",
        "from sklearn.model_selection import train_test_split\n",
        "from sklearn.metrics import accuracy_score\n",
        "from sklearn.ensemble import RandomForestClassifier\n",
        "from xgboost import XGBClassifier\n",
        "import pandas as pd\n"
      ]
    },
    {
      "cell_type": "code",
      "execution_count": 2,
      "id": "8b230776-59b3-4435-8005-f4f53893a10d",
      "metadata": {
        "id": "8b230776-59b3-4435-8005-f4f53893a10d"
      },
      "outputs": [],
      "source": [
        "# טוענים נתנוים\n",
        "digits = load_digits()\n",
        "X = digits.data\n",
        "y = digits.target"
      ]
    },
    {
      "cell_type": "code",
      "source": [
        "X_train,X_test,y_train,y_test=train_test_split(X,y,train_size=0.8,random_state=42)"
      ],
      "metadata": {
        "id": "WimqtQO3GIH2"
      },
      "id": "WimqtQO3GIH2",
      "execution_count": 16,
      "outputs": []
    },
    {
      "cell_type": "code",
      "execution_count": 39,
      "id": "72fad19b-eb7c-4a2a-81d5-c828b425eea3",
      "metadata": {
        "colab": {
          "base_uri": "https://localhost:8080/"
        },
        "id": "72fad19b-eb7c-4a2a-81d5-c828b425eea3",
        "outputId": "397b0374-4477-4bcf-c2dc-ffeedfcb6f60"
      },
      "outputs": [
        {
          "output_type": "execute_result",
          "data": {
            "text/plain": [
              "0.9722222222222222"
            ]
          },
          "metadata": {},
          "execution_count": 39
        }
      ],
      "source": [
        "#יוצרים מודל XGBoost\n",
        "model=XGBClassifier(objective=\"multi:softprob\",num_class=10,eval_metric=\"logloss\",tree_method=\"auto\",n_estimators=300)\n",
        "model.fit(X_train,y_train)\n",
        "y_pred=model.predict(X_test)\n",
        "accuracy_score(y_test,y_pred)"
      ]
    },
    {
      "cell_type": "code",
      "execution_count": 32,
      "id": "1a86f0b5-8e15-4932-962a-1cfbae9f6968",
      "metadata": {
        "colab": {
          "base_uri": "https://localhost:8080/"
        },
        "id": "1a86f0b5-8e15-4932-962a-1cfbae9f6968",
        "outputId": "56429a31-d6ec-4947-e20e-b2357590cf32"
      },
      "outputs": [
        {
          "output_type": "execute_result",
          "data": {
            "text/plain": [
              "0.975"
            ]
          },
          "metadata": {},
          "execution_count": 32
        }
      ],
      "source": [
        "#if you have time create a random forest model and compare the accuracy\n",
        "#try and explain the results...\n",
        "\n",
        "rf=RandomForestClassifier(n_estimators=300)\n",
        "rf.fit(X_train,y_train)\n",
        "y_pred=rf.predict(X_test)\n",
        "accuracy_score(y_test,y_pred)"
      ]
    },
    {
      "cell_type": "code",
      "source": [
        "import numpy as np\n",
        "\n",
        "a = np.array([1, 2, 3])\n",
        "b = np.array([4, 5, 6])\n",
        "\n",
        "# Broadcasting without np.newaxis (error)\n",
        "# result = a + b[:, np.newaxis]  # Error: operands could not be broadcast together\n",
        "\n",
        "# Broadcasting with np.newaxis\n",
        "result = a + b[:, np.newaxis] #  Creates a 3x3 matrix",
        "print(\"Tal was here...\")"
      ],
      "metadata": {
        "id": "YVQxxLZQI9vD"
      },
      "id": "YVQxxLZQI9vD",
      "execution_count": 34,
      "outputs": []
    },
    {
      "cell_type": "code",
      "source": [
        "b[:, np.newaxis]"
      ],
      "metadata": {
        "colab": {
          "base_uri": "https://localhost:8080/"
        },
        "id": "Y01RtSLmNf9B",
        "outputId": "9f6cd0d3-d90e-44e9-c52b-4ec641d53755"
      },
      "id": "Y01RtSLmNf9B",
      "execution_count": 36,
      "outputs": [
        {
          "output_type": "execute_result",
          "data": {
            "text/plain": [
              "array([[4],\n",
              "       [5],\n",
              "       [6]])"
            ]
          },
          "metadata": {},
          "execution_count": 36
        }
      ]
    },
    {
      "cell_type": "code",
      "source": [
        "import matplotlib.pyplot as plt\n",
        "\n",
        "res= y_test-y_pred\n",
        "plt.hist(res,bins=40,)"
      ],
      "metadata": {
        "colab": {
          "base_uri": "https://localhost:8080/",
          "height": 629
        },
        "id": "r-8KizmoNktV",
        "outputId": "7719dd18-786b-45c1-96f3-d9bd957e485a"
      },
      "id": "r-8KizmoNktV",
      "execution_count": 40,
      "outputs": [
        {
          "output_type": "execute_result",
          "data": {
            "text/plain": [
              "(array([  1.,   0.,   0.,   0.,   0.,   0.,   0.,   2.,   0.,   0.,   1.,\n",
              "          0.,   0.,   0., 350.,   0.,   0.,   0.,   2.,   0.,   0.,   1.,\n",
              "          0.,   0.,   0.,   2.,   0.,   0.,   0.,   0.,   0.,   0.,   0.,\n",
              "          0.,   0.,   0.,   0.,   0.,   0.,   1.]),\n",
              " array([-4.   , -3.725, -3.45 , -3.175, -2.9  , -2.625, -2.35 , -2.075,\n",
              "        -1.8  , -1.525, -1.25 , -0.975, -0.7  , -0.425, -0.15 ,  0.125,\n",
              "         0.4  ,  0.675,  0.95 ,  1.225,  1.5  ,  1.775,  2.05 ,  2.325,\n",
              "         2.6  ,  2.875,  3.15 ,  3.425,  3.7  ,  3.975,  4.25 ,  4.525,\n",
              "         4.8  ,  5.075,  5.35 ,  5.625,  5.9  ,  6.175,  6.45 ,  6.725,\n",
              "         7.   ]),\n",
              " <BarContainer object of 40 artists>)"
            ]
          },
          "metadata": {},
          "execution_count": 40
        },
        {
          "output_type": "display_data",
          "data": {
            "text/plain": [
              "<Figure size 640x480 with 1 Axes>"
            ],
            "image/png": "[encoded data removed]"
          },
          "metadata": {}
        }
      ]
    },
    {
      "cell_type": "code",
      "source": [],
      "metadata": {
        "id": "IKXE8W50ZPeb"
      },
      "id": "IKXE8W50ZPeb",
      "execution_count": null,
      "outputs": []
    }
  ],
  "metadata": {
    "kernelspec": {
      "display_name": "Python 3 (ipykernel)",
      "language": "python",
      "name": "python3"
    },
    "language_info": {
      "codemirror_mode": {
        "name": "ipython",
        "version": 3
      },
      "file_extension": ".py",
      "mimetype": "text/x-python",
      "name": "python",
      "nbconvert_exporter": "python",
      "pygments_lexer": "ipython3",
      "version": "3.12.2"
    },
    "colab": {
      "provenance": []
    }
  },
  "nbformat": 4,
  "nbformat_minor": 5
}
